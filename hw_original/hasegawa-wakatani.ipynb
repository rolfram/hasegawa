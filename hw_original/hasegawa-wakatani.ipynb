{
 "cells": [
  {
   "cell_type": "markdown",
   "metadata": {},
   "source": [
    "<h1>Hasegawa-Wakatani Equation</h1>"
   ]
  },
  {
   "cell_type": "markdown",
   "metadata": {},
   "source": [
    "reference: Wakatani1984PoF, Hasegawa1987PRL, Numata2007PoP"
   ]
  },
  {
   "cell_type": "markdown",
   "metadata": {},
   "source": [
    "<h2>Basic Equations</h2>"
   ]
  },
  {
   "cell_type": "markdown",
   "metadata": {},
   "source": [
    "$\\partial_t \\zeta + \\left[\\phi,\\zeta \\right] = \\alpha(\\phi-n)-\\mu \\nabla^4 \\zeta$"
   ]
  },
  {
   "cell_type": "markdown",
   "metadata": {},
   "source": [
    "$\\partial_t n + \\left[\\phi,n\\right] = \\alpha (\\phi-n) - \\kappa \\partial_y \\phi - \\mu \\nabla^4 n$"
   ]
  },
  {
   "cell_type": "markdown",
   "metadata": {},
   "source": [
    "$\\zeta \\equiv \\nabla^2 \\phi$"
   ]
  },
  {
   "cell_type": "markdown",
   "metadata": {},
   "source": [
    "$\\left[A,B\\right] \\equiv \\partial_x A \\partial_y B - \\partial_y A \\partial_x B$"
   ]
  },
  {
   "cell_type": "markdown",
   "metadata": {},
   "source": [
    "<h2>Python Packages</h2>"
   ]
  },
  {
   "cell_type": "code",
   "execution_count": null,
   "metadata": {},
   "outputs": [],
   "source": [
    "%config InlineBackend.figure_format = 'retina'\n",
    "import numpy as np\n",
    "import matplotlib.pyplot as plt\n",
    "import scipy.fftpack as sf\n",
    "from IPython import display\n",
    "import math as mt\n",
    "import matplotlib.animation as animation\n",
    "plt.rcParams['font.size'] = 14\n",
    "plt.rcParams['axes.linewidth'] = 1.5\n",
    "plt.rcParams['animation.embed_limit']=60\n",
    "plt.rcParams['animation.html'] = 'jshtml'"
   ]
  },
  {
   "cell_type": "markdown",
   "metadata": {},
   "source": [
    "<h2>Source Code</h2>"
   ]
  },
  {
   "cell_type": "code",
   "execution_count": null,
   "metadata": {},
   "outputs": [],
   "source": [
    "def HW(nx,ny,lx,ly,nt,dt,kap,alph,mu,phi,n,isav):\n",
    "    global KX,KY,KX2,KY2,KXD,KYD\n",
    "    \n",
    "    dx=lx/nx; dy=ly/ny\n",
    "\n",
    "    ### define grids ###\n",
    "    kx =2*np.pi/lx*np.r_[np.arange(nx/2),np.arange(-nx/2,0)]\n",
    "    ky =2*np.pi/ly*np.r_[np.arange(ny/2),np.arange(-ny/2,0)]\n",
    "    kxd=np.r_[np.ones(nx//3),np.zeros(nx//3+nx%3),np.ones(nx//3)]   #for de-aliasing\n",
    "    kyd=np.r_[np.ones(ny//3),np.zeros(ny//3+ny%3),np.ones(ny//3)]   #for de-aliasing\n",
    "    kx2=kx**2; ky2=ky**2\n",
    "    KX ,KY =np.meshgrid(kx ,ky )\n",
    "    KX2,KY2=np.meshgrid(kx2,ky2)\n",
    "    KXD,KYD=np.meshgrid(kxd,kyd)\n",
    "\n",
    "    phif=sf.fft2(phi)\n",
    "    nf  =sf.fft2(n)\n",
    "    zetaf=-(KX2+KY2)*phif\n",
    "    \n",
    "    phihst =np.zeros((nt//isav,nx,ny))\n",
    "    nhst   =np.zeros((nt//isav,nx,ny))\n",
    "    zetahst=np.zeros((nt//isav,nx,ny))\n",
    "    phihst[0,:,:] =np.real(sf.ifft2(phif))\n",
    "    nhst[0,:,:]   =np.real(sf.ifft2(nf))\n",
    "    zetahst[0,:,:]=np.real(sf.ifft2(zetaf))\n",
    "\n",
    "    for it in range(1,nt):\n",
    "\n",
    "        #---double steps with integrating factor method(4th-order Runge-Kutta)---#\n",
    "        zetaf=np.exp(-mu*(KX2+KY2)**2*dt)*zetaf\n",
    "        nf   =np.exp(-mu*(KX2+KY2)**2*dt)*nf\n",
    "\n",
    "        gw1,ga1=adv(zetaf           ,nf           )\n",
    "        gw2,ga2=adv(zetaf+0.5*dt*gw1,nf+0.5*dt*ga1)\n",
    "        gw3,ga3=adv(zetaf+0.5*dt*gw2,nf+0.5*dt*ga2)\n",
    "        gw4,ga4=adv(zetaf+    dt*gw3,nf+    dt*ga3)\n",
    "        \n",
    "        zetaf=zetaf+dt*(gw1+2*gw2+2*gw3+gw4)/6\n",
    "        nf   =nf   +dt*(ga1+2*ga2+2*ga3+ga4)/6\n",
    "\n",
    "        if(it%isav==0):\n",
    "            phif=zetaf/(-(KX2+KY2)); phif[0,0]=0\n",
    "            phi=np.real(sf.ifft2(phif))\n",
    "            n   =np.real(sf.ifft2(nf))\n",
    "            zeta=np.real(sf.ifft2(zetaf))\n",
    "            phihst[it//isav,:,:]=phi  \n",
    "            nhst[it//isav,:,:]=n\n",
    "            zetahst[it//isav,:,:]=zeta\n",
    "    \n",
    "    return locals()\n",
    "\n",
    "def adv(zetaf,nf):\n",
    "    phif=zetaf/(-(KX2+KY2)); phif[0,0]=0\n",
    "\n",
    "    phi=np.real(sf.ifft2(phif))\n",
    "    n  =np.real(sf.ifft2(nf))\n",
    "\n",
    "    phixf = 1j*KX*phif;  phix =np.real(sf.ifft2(phixf *KXD*KYD))\n",
    "    phiyf = 1j*KY*phif;  phiy =np.real(sf.ifft2(phiyf *KXD*KYD))\n",
    "    zetaxf= 1j*KX*zetaf; zetax=np.real(sf.ifft2(zetaxf*KXD*KYD))\n",
    "    zetayf= 1j*KY*zetaf; zetay=np.real(sf.ifft2(zetayf*KXD*KYD))\n",
    "    nxf   = 1j*KX*nf;    nnx   =np.real(sf.ifft2(nxf   *KXD*KYD))\n",
    "    nyf   = 1j*KY*nf;    nny   =np.real(sf.ifft2(nyf   *KXD*KYD))\n",
    "    \n",
    "    advf =-(phix*zetay-phiy*zetax)+alph*(phi-n)\n",
    "    advg =-(phix*nny  -phiy*nnx)  +alph*(phi-n)-kap*np.real(sf.ifft2(phiyf))\n",
    "    advff=sf.fft2(advf)\n",
    "    advgf=sf.fft2(advg)\n",
    "    \n",
    "    return advff,advgf"
   ]
  },
  {
   "cell_type": "markdown",
   "metadata": {},
   "source": [
    "<h2>Initial Condition</h2>"
   ]
  },
  {
   "cell_type": "code",
   "execution_count": null,
   "metadata": {},
   "outputs": [],
   "source": [
    "nx=256; ny=256; nt=5000; isav=25\n",
    "kap=1.0\n",
    "alph=0.1\n",
    "mu=1e-4\n",
    "dt=2e-2\n",
    "lx=2*np.pi/0.15; ly=2*np.pi/0.15\n",
    "dx=lx/nx; dy=ly/ny\n",
    "x  =np.arange(nx)*dx\n",
    "y  =np.arange(ny)*dy\n",
    "X,Y=np.meshgrid(x,y)\n",
    "\n",
    "s=2; s2=s**2\n",
    "r1=(X-lx/2)**2+(Y-ly/2)**2\n",
    "n  =np.exp(-r1/s2)\n",
    "phi=n"
   ]
  },
  {
   "cell_type": "markdown",
   "metadata": {},
   "source": [
    "<h2>Run</h2>"
   ]
  },
  {
   "cell_type": "code",
   "execution_count": null,
   "metadata": {},
   "outputs": [],
   "source": [
    "data=HW(nx,ny,lx,ly,nt,dt,kap,alph,mu,phi,n,isav)\n",
    "locals().update(data)"
   ]
  },
  {
   "cell_type": "markdown",
   "metadata": {},
   "source": [
    "<h2>Animation</h2>"
   ]
  },
  {
   "cell_type": "code",
   "execution_count": null,
   "metadata": {},
   "outputs": [],
   "source": [
    "def update_anim(it):\n",
    "    \n",
    "    fig.clf()\n",
    "\n",
    "    ax1 = fig.add_subplot(221)\n",
    "    ax2 = fig.add_subplot(222)\n",
    "    ax3 = fig.add_subplot(223)\n",
    "    ax4 = fig.add_subplot(224)    \n",
    "    \n",
    "    for ax in (ax1, ax2, ax3, ax4):\n",
    "        ax.clear()   \n",
    "\n",
    "    im1=ax1.imshow(zetahst[it,:,:]            ,aspect='auto',origin='lower',cmap='gnuplot');ax1.axis('off');fig.colorbar(im1, ax=ax1);ax1.set_title(r'$\\zeta\\ (vorticity)$')\n",
    "    im2=ax2.imshow(nhst[it,:,:]               ,aspect='auto',origin='lower',cmap='gnuplot');ax2.axis('off');fig.colorbar(im2, ax=ax2);ax2.set_title(r'$n\\ (density)$')\n",
    "    im3=ax3.imshow(phihst[it,:,:]             ,aspect='auto',origin='lower',cmap='gnuplot');ax3.axis('off');fig.colorbar(im3, ax=ax3);ax3.set_title(r'$\\phi\\ (potential)$')\n",
    "    im4=ax4.imshow(phihst[it,:,:]-nhst[it,:,:],aspect='auto',origin='lower',cmap='gnuplot');ax4.axis('off');fig.colorbar(im4, ax=ax4);ax4.set_title(r'$\\phi-n$')"
   ]
  },
  {
   "cell_type": "code",
   "execution_count": null,
   "metadata": {},
   "outputs": [],
   "source": [
    "fig=plt.figure(figsize=(10,8))\n",
    "anim=animation.FuncAnimation(fig,update_anim,frames=nt//isav)    \n",
    "plt.close()\n",
    "anim"
   ]
  },
  {
   "cell_type": "code",
   "execution_count": null,
   "metadata": {},
   "outputs": [],
   "source": [
    "sizetuple = (10,8)\n",
    "fig, ax = plt.subplots(2, 2, figsize=sizetuple)\n",
    "\n",
    "ra = 180\n",
    "\n",
    "# can use jet color scheme for cmap as well..\n",
    "im1=ax[0,0].imshow(zetahst[ra,:,:]            ,aspect='auto',origin='lower',cmap='gnuplot');ax[0,0].axis('off');fig.colorbar(im1, ax=ax[0,0]);ax[0,0].set_title(r'$\\zeta\\ (vorticity)$')\n",
    "im2=ax[0,1].imshow(nhst[ra,:,:]               ,aspect='auto',origin='lower',cmap='gnuplot');ax[0,1].axis('off');fig.colorbar(im2, ax=ax[0,1]);ax[0,1].set_title(r'$n\\ (density)$')\n",
    "im3=ax[1,0].imshow(phihst[ra,:,:]             ,aspect='auto',origin='lower',cmap='gnuplot');ax[1,0].axis('off');fig.colorbar(im3, ax=ax[1,0]);ax[1,0].set_title(r'$\\phi\\ (potential)$')\n",
    "im4=ax[1,1].imshow(phihst[ra,:,:]-nhst[ra,:,:],aspect='auto',origin='lower',cmap='gnuplot');ax[1,1].axis('off');fig.colorbar(im4, ax=ax[1,1]);ax[1,1].set_title(r'$\\phi-n$')\n",
    "\n",
    "plt.show()"
   ]
  },
  {
   "cell_type": "markdown",
   "metadata": {},
   "source": [
    "<h1>Modified Hasegawa-Wakatani Equation</h1>"
   ]
  },
  {
   "cell_type": "markdown",
   "metadata": {},
   "source": [
    "$\\partial_t \\zeta + \\left[\\phi,\\zeta \\right] = \\alpha (\\bar{\\phi}-\\bar{n}) - \\mu \\nabla^4 \\zeta$"
   ]
  },
  {
   "cell_type": "markdown",
   "metadata": {},
   "source": [
    "$\\partial_t n + \\left[\\phi,n\\right] = \\alpha (\\bar{\\phi}-\\bar{n}) - \\kappa \\partial_y \\phi - \\mu \\nabla^4 n$"
   ]
  },
  {
   "cell_type": "markdown",
   "metadata": {},
   "source": [
    "$\\zeta \\equiv \\nabla^2 \\phi$"
   ]
  },
  {
   "cell_type": "markdown",
   "metadata": {},
   "source": [
    "$\\left[a,b\\right] \\equiv \\partial_x a \\partial_y b - \\partial_y a \\partial_x b$"
   ]
  },
  {
   "cell_type": "markdown",
   "metadata": {},
   "source": [
    "$\\bar{f} \\equiv f - \\langle f \\rangle$"
   ]
  },
  {
   "cell_type": "markdown",
   "metadata": {},
   "source": [
    "$\\langle f \\rangle \\equiv \\frac{1}{L_y} \\int f dy$"
   ]
  },
  {
   "cell_type": "markdown",
   "metadata": {},
   "source": [
    "<h2>Source Code</h2>"
   ]
  },
  {
   "cell_type": "code",
   "execution_count": null,
   "metadata": {},
   "outputs": [],
   "source": [
    "def MHW(nx,ny,lx,ly,nt,dt,kap,alph,mu,phi,n,isav):\n",
    "    global KX,KY,KX2,KY2,KXD,KYD\n",
    "    \n",
    "    dx=lx/nx; dy=ly/ny\n",
    "\n",
    "    ### define grids ###\n",
    "    kx =2*np.pi/lx*np.r_[np.arange(nx/2),np.arange(-nx/2,0)]\n",
    "    ky =2*np.pi/ly*np.r_[np.arange(ny/2),np.arange(-ny/2,0)]\n",
    "    kxd=np.r_[np.ones(nx//3),np.zeros(nx//3+nx%3),np.ones(nx//3)]   #for de-aliasing\n",
    "    kyd=np.r_[np.ones(ny//3),np.zeros(ny//3+ny%3),np.ones(ny//3)]   #for de-aliasing\n",
    "    kx2=kx**2; ky2=ky**2\n",
    "    KX ,KY =np.meshgrid(kx ,ky )\n",
    "    KX2,KY2=np.meshgrid(kx2,ky2)\n",
    "    KXD,KYD=np.meshgrid(kxd,kyd)\n",
    "\n",
    "    phif=sf.fft2(phi)\n",
    "    nf  =sf.fft2(n)\n",
    "    #zetaf=sf.fft2(np.random.randn(nx,ny)*2)\n",
    "    zetaf=-(KX2+KY2)*phif\n",
    "    \n",
    "    phihst =np.zeros((nt//isav,nx,ny))\n",
    "    nhst   =np.zeros((nt//isav,nx,ny))\n",
    "    zetahst=np.zeros((nt//isav,nx,ny))\n",
    "    phihst[0,:,:] =np.real(sf.ifft2(phif))\n",
    "    nhst[0,:,:]   =np.real(sf.ifft2(nf))\n",
    "    zetahst[0,:,:]=np.real(sf.ifft2(zetaf))\n",
    "\n",
    "    for it in range(1,nt):\n",
    "\n",
    "        #---double steps with integrating factor method(4th-order Runge-Kutta)---#\n",
    "        zetaf=np.exp(-mu*(KX2+KY2)**2*dt)*zetaf\n",
    "        nf   =np.exp(-mu*(KX2+KY2)**2*dt)*nf\n",
    "\n",
    "        gw1,ga1=adv(zetaf           ,nf           )\n",
    "        gw2,ga2=adv(zetaf+0.5*dt*gw1,nf+0.5*dt*ga1)\n",
    "        gw3,ga3=adv(zetaf+0.5*dt*gw2,nf+0.5*dt*ga2)\n",
    "        gw4,ga4=adv(zetaf+    dt*gw3,nf+    dt*ga3)\n",
    "        \n",
    "        zetaf=zetaf+dt*(gw1+2*gw2+2*gw3+gw4)/6\n",
    "        nf   =nf   +dt*(ga1+2*ga2+2*ga3+ga4)/6\n",
    "\n",
    "        if(it%isav==0):\n",
    "            phif=zetaf/(-(KX2+KY2)); phif[0,0]=0\n",
    "            phi=np.real(sf.ifft2(phif))\n",
    "            n   =np.real(sf.ifft2(nf))\n",
    "            zeta=np.real(sf.ifft2(zetaf))\n",
    "            phihst[it//isav,:,:]=phi  \n",
    "            nhst[it//isav,:,:]=n\n",
    "            zetahst[it//isav,:,:]=zeta\n",
    "    \n",
    "    return locals()\n",
    "\n",
    "def adv(zetaf,nf):\n",
    "    phif=zetaf/(-(KX2+KY2)); phif[0,0]=0\n",
    "\n",
    "    phi=np.real(sf.ifft2(phif))\n",
    "    n  =np.real(sf.ifft2(nf))\n",
    "    \n",
    "    phiz=np.sum(phi*dy,axis=0)/ly\n",
    "    nz  =np.sum(n  *dy,axis=0)/ly\n",
    "\n",
    "    phixf = 1j*KX*phif;  phix =np.real(sf.ifft2(phixf *KXD*KYD))\n",
    "    phiyf = 1j*KY*phif;  phiy =np.real(sf.ifft2(phiyf *KXD*KYD))\n",
    "    zetaxf= 1j*KX*zetaf; zetax=np.real(sf.ifft2(zetaxf*KXD*KYD))\n",
    "    zetayf= 1j*KY*zetaf; zetay=np.real(sf.ifft2(zetayf*KXD*KYD))\n",
    "    nxf   = 1j*KX*nf;    nnx   =np.real(sf.ifft2(nxf  *KXD*KYD))\n",
    "    nyf   = 1j*KY*nf;    nny   =np.real(sf.ifft2(nyf  *KXD*KYD))\n",
    "    \n",
    "    advf =-(phix*zetay-phiy*zetax)+alph*((phi-phiz)-(n-nz))\n",
    "    advg =-(phix*nny  -phiy*nnx)  +alph*((phi-phiz)-(n-nz))-kap*np.real(sf.ifft2(phiyf))\n",
    "    advff=sf.fft2(advf)\n",
    "    advgf=sf.fft2(advg)\n",
    "    \n",
    "    return advff,advgf"
   ]
  },
  {
   "cell_type": "markdown",
   "metadata": {},
   "source": [
    "<h2>Initial Condition</h2>"
   ]
  },
  {
   "cell_type": "code",
   "execution_count": null,
   "metadata": {},
   "outputs": [],
   "source": [
    "nx=256; ny=256; nt=5000; isav=25\n",
    "kap=1.0\n",
    "alph=1.0\n",
    "mu=1e-4\n",
    "dt=2e-2\n",
    "lx=2*np.pi/0.15; ly=2*np.pi/0.15\n",
    "dx=lx/nx; dy=ly/ny\n",
    "x  =np.arange(nx)*dx\n",
    "y  =np.arange(ny)*dy\n",
    "X,Y=np.meshgrid(x,y)\n",
    "\n",
    "s=2; s2=s**2\n",
    "r1=(X-lx/2)**2+(Y-ly/2)**2\n",
    "n  =np.exp(-r1/s2)\n",
    "phi=n"
   ]
  },
  {
   "cell_type": "markdown",
   "metadata": {},
   "source": [
    "<h2>Run</h2>"
   ]
  },
  {
   "cell_type": "code",
   "execution_count": null,
   "metadata": {},
   "outputs": [],
   "source": [
    "data=MHW(nx,ny,lx,ly,nt,dt,kap,alph,mu,phi,n,isav)\n",
    "locals().update(data)"
   ]
  },
  {
   "cell_type": "markdown",
   "metadata": {},
   "source": [
    "<h2>Animation</h2>"
   ]
  },
  {
   "cell_type": "code",
   "execution_count": null,
   "metadata": {},
   "outputs": [],
   "source": [
    "fig=plt.figure(figsize=(10,8))\n",
    "anim=animation.FuncAnimation(fig,update_anim,frames=nt//isav)    \n",
    "plt.close()\n",
    "anim"
   ]
  }
 ],
 "metadata": {
  "kernelspec": {
   "display_name": "Python 3",
   "language": "python",
   "name": "python3"
  },
  "language_info": {
   "codemirror_mode": {
    "name": "ipython",
    "version": 3
   },
   "file_extension": ".py",
   "mimetype": "text/x-python",
   "name": "python",
   "nbconvert_exporter": "python",
   "pygments_lexer": "ipython3",
   "version": "3.7.2"
  }
 },
 "nbformat": 4,
 "nbformat_minor": 2
}
