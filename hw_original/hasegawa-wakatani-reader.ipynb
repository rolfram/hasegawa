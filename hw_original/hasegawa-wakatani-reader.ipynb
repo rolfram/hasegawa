{
 "cells": [
  {
   "cell_type": "markdown",
   "metadata": {},
   "source": [
    "<h1>Hasegawa-Wakatani Equation</h1>"
   ]
  },
  {
   "cell_type": "markdown",
   "metadata": {},
   "source": [
    "reference: Wakatani1984PoF, Hasegawa1987PRL, Numata2007PoP"
   ]
  },
  {
   "cell_type": "markdown",
   "metadata": {},
   "source": [
    "<h2>Basic Equations</h2>"
   ]
  },
  {
   "cell_type": "markdown",
   "metadata": {},
   "source": [
    "$\\partial_t \\zeta + \\left[\\phi,\\zeta \\right] = \\alpha(\\phi-n)-\\mu \\nabla^4 \\zeta$"
   ]
  },
  {
   "cell_type": "markdown",
   "metadata": {},
   "source": [
    "$\\partial_t n + \\left[\\phi,n\\right] = \\alpha (\\phi-n) - \\kappa \\partial_y \\phi - \\mu \\nabla^4 n$"
   ]
  },
  {
   "cell_type": "markdown",
   "metadata": {},
   "source": [
    "$\\zeta \\equiv \\nabla^2 \\phi$"
   ]
  },
  {
   "cell_type": "markdown",
   "metadata": {},
   "source": [
    "$\\left[a,b\\right] \\equiv \\partial_x a \\partial_y b - \\partial_y a \\partial_x b$"
   ]
  },
  {
   "cell_type": "markdown",
   "metadata": {},
   "source": [
    "<h2>Python Packages</h2>"
   ]
  },
  {
   "cell_type": "code",
   "execution_count": null,
   "metadata": {},
   "outputs": [],
   "source": [
    "%config InlineBackend.figure_format = 'retina'\n",
    "%matplotlib inline\n",
    "import numpy as np\n",
    "import matplotlib.pyplot as plt\n",
    "import scipy.fftpack as sf\n",
    "from IPython import display\n",
    "import math as mt\n",
    "import matplotlib.animation as animation\n",
    "plt.rcParams['font.size'] = 14\n",
    "plt.rcParams['axes.linewidth'] = 1.5\n",
    "plt.rcParams['animation.embed_limit']=60\n",
    "plt.rcParams['animation.html'] = 'jshtml'"
   ]
  },
  {
   "cell_type": "markdown",
   "metadata": {},
   "source": [
    "<h2>Load Data</h2>"
   ]
  },
  {
   "cell_type": "code",
   "execution_count": null,
   "metadata": {},
   "outputs": [],
   "source": [
    "data = np.load('./kY_5.npz')# './kY_5.npz')\n",
    "\n",
    "zetahst = data['zetahst']\n",
    "nhst = data['nhst']\n",
    "phihst = data['phihst']"
   ]
  },
  {
   "cell_type": "markdown",
   "metadata": {},
   "source": [
    "<h2>Animation</h2>"
   ]
  },
  {
   "cell_type": "code",
   "execution_count": null,
   "metadata": {},
   "outputs": [],
   "source": [
    "def update_anim(it):\n",
    "    \n",
    "    fig.clf()\n",
    "\n",
    "    ax1 = fig.add_subplot(221)\n",
    "    ax2 = fig.add_subplot(222)\n",
    "    ax3 = fig.add_subplot(223)\n",
    "    ax4 = fig.add_subplot(224)    \n",
    "    \n",
    "    for ax in (ax1, ax2, ax3, ax4):\n",
    "        ax.clear()   \n",
    "\n",
    "    im1=ax1.imshow(zetahst[it,:,:]            ,aspect='auto',origin='lower',cmap='gnuplot');ax1.axis('off');fig.colorbar(im1, ax=ax1);ax1.set_title(r'$\\zeta\\ (vorticity)$')\n",
    "    im2=ax2.imshow(nhst[it,:,:]               ,aspect='auto',origin='lower',cmap='gnuplot');ax2.axis('off');fig.colorbar(im2, ax=ax2);ax2.set_title(r'$n\\ (density)$')\n",
    "    im3=ax3.imshow(phihst[it,:,:]             ,aspect='auto',origin='lower',cmap='gnuplot');ax3.axis('off');fig.colorbar(im3, ax=ax3);ax3.set_title(r'$\\phi\\ (potential)$')\n",
    "    im4=ax4.imshow(phihst[it,:,:]-nhst[it,:,:],aspect='auto',origin='lower',cmap='gnuplot');ax4.axis('off');fig.colorbar(im4, ax=ax4);ax4.set_title(r'$\\phi-n$')"
   ]
  },
  {
   "cell_type": "code",
   "execution_count": null,
   "metadata": {},
   "outputs": [],
   "source": [
    "fig=plt.figure(figsize=(10,8))\n",
    "nt=5000\n",
    "isav=25\n",
    "anim=animation.FuncAnimation(fig,update_anim,frames=nt//isav)    \n",
    "plt.close()\n",
    "anim"
   ]
  },
  {
   "cell_type": "code",
   "execution_count": null,
   "metadata": {},
   "outputs": [],
   "source": [
    "sizetuple = (10,8)\n",
    "fig, ax = plt.subplots(2, 2, figsize=sizetuple)\n",
    "\n",
    "ra = 0\n",
    "\n",
    "# can use jet color scheme for cmap as well..\n",
    "im1=ax[0,0].imshow(zetahst[ra,:,:]            ,aspect='auto',origin='lower',cmap='gnuplot');ax[0,0].axis('off');fig.colorbar(im1, ax=ax[0,0]);ax[0,0].set_title(r'$\\zeta\\ (vorticity)$')\n",
    "im2=ax[0,1].imshow(nhst[ra,:,:]               ,aspect='auto',origin='lower',cmap='gnuplot');ax[0,1].axis('off');fig.colorbar(im2, ax=ax[0,1]);ax[0,1].set_title(r'$n\\ (density)$')\n",
    "im3=ax[1,0].imshow(phihst[ra,:,:]             ,aspect='auto',origin='lower',cmap='gnuplot');ax[1,0].axis('on');ax[1,0].set_xlabel('x');fig.colorbar(im3, ax=ax[1,0]);ax[1,0].set_title(r'$\\phi\\ (potential)$')\n",
    "im4=ax[1,1].imshow(phihst[ra,:,:]-nhst[ra,:,:],aspect='auto',origin='lower',cmap='gnuplot');ax[1,1].axis('off');fig.colorbar(im4, ax=ax[1,1]);ax[1,1].set_title(r'$\\phi-n$')\n",
    "\n",
    "plt.show()"
   ]
  },
  {
   "cell_type": "code",
   "execution_count": null,
   "metadata": {},
   "outputs": [],
   "source": [
    "sizetuple = (10,8)\n",
    "fig, ax = plt.subplots(2, 2, figsize=sizetuple)\n",
    "\n",
    "ra = 150\n",
    "\n",
    "# can use jet color scheme for cmap as well..\n",
    "im1=ax[0,0].imshow(zetahst[ra,:,:]            ,aspect='auto',origin='lower',cmap='gnuplot');ax[0,0].axis('off');fig.colorbar(im1, ax=ax[0,0]);ax[0,0].set_title(r'$\\zeta\\ (vorticity)$')\n",
    "im2=ax[0,1].imshow(nhst[ra,:,:]               ,aspect='auto',origin='lower',cmap='gnuplot');ax[0,1].axis('off');fig.colorbar(im2, ax=ax[0,1]);ax[0,1].set_title(r'$n\\ (density)$')\n",
    "im3=ax[1,0].imshow(phihst[ra,:,:]             ,aspect='auto',origin='lower',cmap='gnuplot');ax[1,0].axis('on');ax[1,0].set_xlabel('x');fig.colorbar(im3, ax=ax[1,0]);ax[1,0].set_title(r'$\\phi\\ (potential)$')\n",
    "im4=ax[1,1].imshow(phihst[ra,:,:]-nhst[ra,:,:],aspect='auto',origin='lower',cmap='gnuplot');ax[1,1].axis('off');fig.colorbar(im4, ax=ax[1,1]);ax[1,1].set_title(r'$\\phi-n$')\n",
    "\n",
    "plt.show()"
   ]
  },
  {
   "cell_type": "code",
   "execution_count": null,
   "metadata": {},
   "outputs": [],
   "source": [
    "cs = plt.contour(phihst[ra,:,:],cmap='jet') # PuOr\n",
    "plt.colorbar(cs) #, extend='both')\n",
    "plt.title('$\\phi$ (potential)')\n",
    "plt.show()"
   ]
  },
  {
   "cell_type": "code",
   "execution_count": null,
   "metadata": {},
   "outputs": [],
   "source": []
  }
 ],
 "metadata": {
  "kernelspec": {
   "display_name": "Python 3",
   "language": "python",
   "name": "python3"
  },
  "language_info": {
   "codemirror_mode": {
    "name": "ipython",
    "version": 3
   },
   "file_extension": ".py",
   "mimetype": "text/x-python",
   "name": "python",
   "nbconvert_exporter": "python",
   "pygments_lexer": "ipython3",
   "version": "3.7.2"
  }
 },
 "nbformat": 4,
 "nbformat_minor": 2
}
