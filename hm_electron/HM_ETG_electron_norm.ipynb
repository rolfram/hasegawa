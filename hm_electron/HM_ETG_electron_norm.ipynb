{
 "cells": [
  {
   "cell_type": "markdown",
   "metadata": {},
   "source": [
    "<h2>Basic Equations</h2>"
   ]
  },
  {
   "cell_type": "markdown",
   "metadata": {},
   "source": [
    "$$\n",
    "\\begin{align}\n",
    "-(1-Z \\nabla^2_{\\bot}) \\partial_t \\phi + E \\partial_y \\nabla^2_{\\bot} \\phi + R \\partial_y \\phi + Q [\\phi, \\nabla^2_{\\bot} \\phi] = 0,\n",
    "\\end{align}\n",
    "$$"
   ]
  },
  {
   "cell_type": "markdown",
   "metadata": {},
   "source": [
    "Some of the terms were re-labeled to simplify the math. The terms are defined as, \n",
    "$$\n",
    "\\begin{align}\n",
    "    Z &= \\frac{1 + \\tau}{2 \\tau} , \\\\\n",
    "    E &= \\frac{(1 + \\tau) (1+\\eta_e)}{4 \\tau}, \\\\\n",
    "    R &= \\frac{1 + \\eta_e}{2 \\tau}, \\\\\n",
    "    Q &= \\frac{(1 + \\tau)^2}{\\tau^2} \\frac{r_n}{4 \\rho_e}.\n",
    "\\end{align}\n",
    "$$\n",
    "Some of the constants that are not obvious represent the following:\n",
    "$$\n",
    "\\begin{align}\n",
    "    \\tau &= \\frac{T_e}{T_i} \\sim 1, \\\\\n",
    "    \\rho_i &= \\rho_e \\sqrt{\\frac{m_i}{\\tau m_e}}, \\\\\n",
    "    \\eta_e &= \\frac{r_n}{r_t}, \n",
    "\\end{align}\n",
    "$$"
   ]
  },
  {
   "cell_type": "markdown",
   "metadata": {},
   "source": [
    "Let's define the following as well,\n",
    "$$\n",
    "\\begin{align}\n",
    "    \\xi = \\nabla^2_{\\bot} \\phi.\n",
    "\\end{align}\n",
    "$$"
   ]
  },
  {
   "cell_type": "markdown",
   "metadata": {},
   "source": [
    "We can rewrite the equation now as, \n",
    "$$\n",
    "\\begin{align}\n",
    "  \\partial_t (\\phi - Z \\xi) = E \\partial_y \\xi + R \\partial_y \\phi + Q [\\phi,\\xi].\n",
    "\\end{align}\n",
    "$$"
   ]
  },
  {
   "cell_type": "markdown",
   "metadata": {},
   "source": [
    "Let's now define the following terms, \n",
    "$$ \n",
    "\\begin{align}\n",
    "  \\phi_k &= \\Sigma_k \\phi_0 \\exp{i k \\vec{x}}, \\\\\n",
    "  (\\nabla^2 \\phi)_k &= \\xi_k = - k^2 \\phi_k, \\\\\n",
    "  k^2 &= k_x^2 + k_y^2.\n",
    "\\end{align}\n",
    "$$"
   ]
  },
  {
   "cell_type": "markdown",
   "metadata": {},
   "source": [
    "Rewriting now the H-M Ion equation in spectral space results in the following, \n",
    "$$\n",
    "\\begin{align}\n",
    "    \\partial_t \\phi_k = \\frac{1}{1 + Z k^2} (E \\partial_y \\xi + R \\partial_y \\phi + Q [\\phi,\\xi])_k.\n",
    "\\end{align}\n",
    "$$"
   ]
  },
  {
   "cell_type": "markdown",
   "metadata": {},
   "source": [
    "We can now use a pseudo-spectral approach with a 4th-order Runge-Kutta scheme to solve for $\\phi_k$ and $\\phi$.  "
   ]
  },
  {
   "cell_type": "markdown",
   "metadata": {},
   "source": [
    "<h2>Initial Conditions</h2>"
   ]
  },
  {
   "cell_type": "code",
   "execution_count": null,
   "metadata": {
    "collapsed": true
   },
   "outputs": [],
   "source": [
    "import numpy as np\n",
    "import math as mt\n",
    "import scipy.fftpack as sf\n",
    "import matplotlib.pyplot as plt\n",
    "import random\n",
    "%matplotlib inline"
   ]
  },
  {
   "cell_type": "code",
   "execution_count": null,
   "metadata": {},
   "outputs": [],
   "source": [
    "nx=ny=257\n",
    "sqrtmemi = 0.0233549\n",
    "sqrtmime = 42.8177\n",
    "mx=16\n",
    "my=8\n",
    "lx=2*np.pi/0.15*sqrtmime; ly=lx\n",
    "# lx=2*np.pi/0.15; ly=lx\n",
    "dx=lx/nx; dy=ly/ny\n",
    "nt=5000; isav=25; dt=2e-2\n",
    "kap=0.1\n",
    "Z=1; E=1.5; R=1.5; Q=10000\n",
    "x = np.arange(nx)*dx\n",
    "y = np.arange(ny)*dy\n",
    "X,Y = np.meshgrid(x,y)\n",
    "px=np.linspace(-mx/2,mx/2,mx)*2.*np.pi/lx\n",
    "px[8]=0\n",
    "px[7]=0\n",
    "print(px)\n",
    "py=np.arange(my)*2.*np.pi/ly\n",
    "A=np.zeros((mx,my))+0.*1j\n",
    "phi=np.zeros((nx,ny))+0.*1j\n",
    "# had at 0.3-0.5 loop for 64 nx.\n",
    "# had 0-8 for both modes\n",
    "\n",
    "for k in range(mx):\n",
    "    rand=random.uniform(0,2*np.pi)\n",
    "    A[int(random.uniform(4,12)),int(random.uniform(0,8))]=random.uniform(0.08,0.15)*np.exp(1j*rand)\n",
    "    \n",
    "A[8,int(random.uniform(3*my/8,4*my/8))] = 0.11*np.exp(1j*random.uniform(0,2*np.pi))\n",
    "\n",
    "rand=random.uniform(0,2*np.pi)\n",
    "A[8,int(my/4)]=1.*np.exp(1j*rand)  "
   ]
  },
  {
   "cell_type": "code",
   "execution_count": null,
   "metadata": {
    "collapsed": true
   },
   "outputs": [],
   "source": [
    "for i in range(nx):\n",
    "    for j in range(ny):\n",
    "        for m1 in range(mx):\n",
    "            for m2 in range(my):\n",
    "                phi[i,j]=phi[i,j]+A[m1,m2]*np.exp(1j*px[m1]*x[i]+1j*py[m2]*y[j])\n",
    "phi=np.real(phi)\n",
    "phi=np.transpose(phi)\n",
    "\n",
    "## Test\n",
    "# r1 = (x-lx/2)**2+(y-ly/2)**2\n",
    "# phi=10*(2*np.exp(-r1/64)*np.cos(0.15*Y)+np.cos(0.3*Y))"
   ]
  },
  {
   "cell_type": "code",
   "execution_count": null,
   "metadata": {},
   "outputs": [],
   "source": [
    "phihst =np.zeros((nt//isav,nx,ny))\n",
    "phifhst =np.zeros((nt//isav,nx,ny))\n",
    "\n",
    "kx =2*np.pi/lx*np.r_[np.arange(nx/2),np.arange(-nx/2,0)]\n",
    "ky =2*np.pi/ly*np.r_[np.arange(ny/2),np.arange(-ny/2,0)]\n",
    "\n",
    "# for de-aliasing (not sure what this does. Need to research)\n",
    "kxd=np.r_[np.ones(nx//3),np.zeros(nx//3+nx%3),np.ones(nx//3)]\n",
    "kyd=np.r_[np.ones(ny//3),np.zeros(ny//3+ny%3),np.ones(ny//3)]\n",
    "\n",
    "# Create meshgrid and also define kx^2 and ky^2\n",
    "kx2=kx**2; ky2=ky**2\n",
    "KX, KY =np.meshgrid(kx ,ky )\n",
    "KX2,KY2 =np.meshgrid(kx2,ky2)\n",
    "KXD,KYD =np.meshgrid(kxd,kyd)\n",
    "\n",
    "phihst[0,:,:] = phi\n",
    "phifhst[0,:,:] = np.fft.fftshift(np.real(sf.fft2(phi)))"
   ]
  },
  {
   "cell_type": "code",
   "execution_count": null,
   "metadata": {},
   "outputs": [],
   "source": [
    "sizetuple = (15,5)\n",
    "fig, ax = plt.subplots(ncols=2,figsize=sizetuple)\n",
    "\n",
    "ra = 0\n",
    "\n",
    "# can use jet color scheme for cmap as well..\n",
    "im1=ax[0].imshow(phi            ,aspect='auto',origin='lower',cmap='RdYlBu_r');ax[0].axis('on');fig.colorbar(im1, ax=ax[0]);ax[0].set_title(r'$\\phi$')\n",
    "im2=ax[1].imshow(phifhst[ra,:,:]           ,aspect='auto',origin='lower',extent=[-128,128,-128,128],cmap='viridis');ax[1].axis('on');fig.colorbar(im2, ax=ax[1]);ax[1].set_title(r'$\\phi_k \\ $(Potiential in k-space)')\n",
    "ax[1].set_xlim(-16,16)\n",
    "ax[1].set_ylim(-16,16)\n",
    "\n",
    "plt.show()"
   ]
  },
  {
   "cell_type": "code",
   "execution_count": null,
   "metadata": {
    "collapsed": true
   },
   "outputs": [],
   "source": [
    "import warnings\n",
    "warnings.simplefilter('error', RuntimeWarning)\n",
    "def HM(nx,ny,lx,ly,nt,dt,Z,E,R,Q,mu,phi,isav):\n",
    "    global KX,KY,KX2,KY2,KXD,KYD\n",
    "\n",
    "    # Define dx and dy:\n",
    "    dx=lx/nx; dy=ly/ny\n",
    "\n",
    "    ### define grids ###\n",
    "    # np.r_: concatenate any number of array slices along row (row-wise merging).\n",
    "    # np.arange(start,stop,step): return evenly spaced vales within a given interval. \n",
    "    # kx = 2*pi*n/lx; ky = 2*pi*m/ly, where n and m are integers. \n",
    "    # so actually L = 41.88...\n",
    "    b =np.arange(0,19.25,0.15) # .0035 and 0.4484\n",
    "    a =np.arange(-19.2,-0.15,0.15)\n",
    "    kx =np.concatenate((b,a))*0.0233549\n",
    "    ky =kx\n",
    "\n",
    "    # for de-aliasing (not sure what this does. Need to research)\n",
    "    kxd=np.r_[np.ones(nx//3),np.zeros(nx//3+nx%3),np.ones(nx//3)]\n",
    "    kyd=np.r_[np.ones(ny//3),np.zeros(ny//3+ny%3),np.ones(ny//3)]\n",
    "\n",
    "    # Create meshgrid and also define kx^2 and ky^2\n",
    "    kx2=kx**2; ky2=ky**2\n",
    "    KX, KY =np.meshgrid(kx ,ky )\n",
    "    KX2,KY2 =np.meshgrid(kx2,ky2)\n",
    "    KXD,KYD =np.meshgrid(kxd,kyd)\n",
    "\n",
    "    # Define Fourier transform of phi\n",
    "    # fft2: 2-D discrete Fourier transform\n",
    "    # ifft2: 2-D discrete inverse Fourier transform of real or complex sequence.\n",
    "\n",
    "    # Allocate space to store phi, zeta, and n. In this case phi = n.\n",
    "    # phi(time,x,y) etc.\n",
    "    phihst =np.zeros((nt//isav,nx,ny))\n",
    "    zetahst =np.zeros((nt//isav,nx,ny))\n",
    "\n",
    "    # Allocate space for phi in fourier-space:\n",
    "    phifhst =np.zeros((nt//isav,nx,ny))\n",
    "    # phif[:128,:128] = np.conj(phif[128:,128:])\n",
    "    \n",
    "    phi=phi\n",
    "    \n",
    "    phif = sf.fft2(phi) # /nx\n",
    "    phif = np.fft.fftshift(phif)\n",
    "    # phif[:128,:] = np.conj(np.flip(phif[128:,:]))\n",
    "    phifhst[0,:,:] = abs(phif)\n",
    "    phif = np.fft.ifftshift(phif)\n",
    "\n",
    "    zetaf=-(KX2+KY2)*phif    \n",
    "\n",
    "    # Define initial condition at t=0.\n",
    "    phihst[0,:,:] =phi\n",
    "\n",
    "    zetahst[0,:,:] = np.real(sf.ifft2(zetaf))\n",
    "\n",
    "    for it in range(1,nt):\n",
    "\n",
    "        #---Numerical Method: 4th-order Runge-Kutta\n",
    "        # time adv. in spectral space (phif). \n",
    "\n",
    "        # Previous method has an integrating factor method involve due to hyperviscosity term. \n",
    "        # phif=np.exp(-mu*(KX2+KY2)**2*dt)*phif\n",
    "        # But in this case mu=0 and therefore there is no hyperviscosity term involved. \n",
    "\n",
    "        gw1 = adv(phif)\n",
    "        gw2 = adv(phif+0.5*dt*gw1)\n",
    "        gw3 = adv(phif+0.5*dt*gw2)\n",
    "        gw4 = adv(phif+dt*gw3)\n",
    "\n",
    "        phif=phif+dt*(gw1+2*gw2+2*gw3+gw4)/6\n",
    "\n",
    "        # Stores values every it%isav==0\n",
    "        if(it%isav==0):\n",
    "            # In previous code. Seems to be a boundary condition in spectral space. \n",
    "            # phif[0,0]=0\n",
    "            phif = np.fft.fftshift(phif)\n",
    "            # Maybe need to comment this out below? Try tomorrow.\n",
    "            # phif[:128,:] = np.conj(np.flip(phif[128:,:]))\n",
    "            phifhst[it//isav,:,:] = abs(phif)\n",
    "            phif = np.fft.ifftshift(phif)\n",
    "\n",
    "            # Reality condition (Needs to be enforced):\n",
    "            # if needed the size can be checked using np.shape(phif)\n",
    "            # Not sure if this is right...\n",
    "            # phif[128:,128:] = -np.conj(phif[:128,:128])\n",
    "\n",
    "\n",
    "            zetaf = -(KX2+KY2)*phif\n",
    "\n",
    "            # Transorm phi and zeta into real space using IFFT.\n",
    "            phi=np.real(sf.ifft2(phif))\n",
    "            zeta=np.real(sf.ifft2(zetaf))\n",
    "\n",
    "            # Record phi and zeta values in allocated phi and zeta array at instance in time.\n",
    "            phihst[it//isav,:,:]=phi\n",
    "            zetahst[it//isav,:,:]=zeta\n",
    "\t    \n",
    "    return locals()"
   ]
  },
  {
   "cell_type": "code",
   "execution_count": null,
   "metadata": {
    "collapsed": true
   },
   "outputs": [],
   "source": [
    "def adv(phif):\n",
    "    # phif[0,0]=0\n",
    "    phif = phif # /nx\n",
    "\n",
    "    zetaf=-(KX2+KY2)*phif\n",
    "    kconstf=1./(1.+Z*(KX2+KY2))\n",
    "\n",
    "    # Define spatial derivatives \\partial_x phi, etc. for Poisson bracket.\n",
    "    # This was written originally for Hasegawa-Wakatani.\n",
    "    phixf = 1j*KX*phif;  phix =np.real(sf.ifft2(phixf *KXD*KYD))\n",
    "    phiyf = 1j*KY*phif;  phiy =np.real(sf.ifft2(phiyf *KXD*KYD))\n",
    "    zetaxf= 1j*KX*zetaf; zetax=np.real(sf.ifft2(zetaxf*KXD*KYD))\n",
    "    zetayf= 1j*KY*zetaf; zetay=np.real(sf.ifft2(zetayf*KXD*KYD))\n",
    "\n",
    "    # FFT2 real-space calculation of -phix*zetay+phiy*zetax-kap*phiy\n",
    "    derivative = sf.fft2(Q*(phix*zetay-phiy*zetax)+R*np.real(sf.ifft2(phiyf))+E*np.real(sf.ifft2(zetayf)))\n",
    "\n",
    "    # Multiply by kconstf.\n",
    "    advff = kconstf*(derivative)\n",
    "\n",
    "    return advff"
   ]
  },
  {
   "cell_type": "code",
   "execution_count": null,
   "metadata": {},
   "outputs": [],
   "source": [
    "data=HM(nx,ny,lx,ly,1000,1e-5,Z,E,R,Q,0,phi,25) # mu=1e-4 for the previous code. \n",
    "locals().update(data)"
   ]
  },
  {
   "cell_type": "code",
   "execution_count": null,
   "metadata": {},
   "outputs": [],
   "source": [
    "sizetuple = (15,5)\n",
    "fig, ax = plt.subplots(ncols=2, figsize=sizetuple)\n",
    "\n",
    "ra = 39\n",
    "\n",
    "# can use jet color scheme for cmap as well..\n",
    "im1=ax[0].imshow(phihst[ra,:,:]            ,aspect='auto',origin='lower',cmap='RdYlBu_r');ax[0].axis('on');fig.colorbar(im1, ax=ax[0]);ax[0].set_title(r'$\\phi$')\n",
    "im2=ax[1].imshow(phifhst[ra,:,:]           ,aspect='auto',origin='lower',extent=[-128,128,-128,128],cmap='viridis');ax[1].axis('on');fig.colorbar(im2, ax=ax[1]);ax[1].set_title(r'$\\phi_k \\ $(Potiential in k-space)')\n",
    "ax[1].set_xlim(-10,10)\n",
    "ax[1].set_ylim(-10.2,10)\n",
    "\n",
    "plt.tight_layout()\n",
    "plt.show()"
   ]
  },
  {
   "cell_type": "code",
   "execution_count": null,
   "metadata": {
    "collapsed": true
   },
   "outputs": [],
   "source": [
    "print(1-KX2-KY2)"
   ]
  },
  {
   "cell_type": "code",
   "execution_count": null,
   "metadata": {
    "collapsed": true
   },
   "outputs": [],
   "source": [
    "print(1+KX2+KY2)"
   ]
  },
  {
   "cell_type": "code",
   "execution_count": null,
   "metadata": {
    "collapsed": true
   },
   "outputs": [],
   "source": []
  }
 ],
 "metadata": {
  "kernelspec": {
   "display_name": "Python 3",
   "language": "python",
   "name": "python3"
  },
  "language_info": {
   "codemirror_mode": {
    "name": "ipython",
    "version": 3
   },
   "file_extension": ".py",
   "mimetype": "text/x-python",
   "name": "python",
   "nbconvert_exporter": "python",
   "pygments_lexer": "ipython3",
   "version": "3.5.1"
  }
 },
 "nbformat": 4,
 "nbformat_minor": 2
}
